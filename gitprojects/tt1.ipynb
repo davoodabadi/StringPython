{
 "cells": [
  {
   "cell_type": "code",
   "execution_count": 2,
   "id": "f8841072-c852-4e4c-8024-3d5299855a77",
   "metadata": {},
   "outputs": [
    {
     "name": "stdout",
     "output_type": "stream",
     "text": [
      "hello\n"
     ]
    }
   ],
   "source": [
    "print (\"hello\")\n"
   ]
  },
  {
   "cell_type": "markdown",
   "id": "b57cf5ef-0fe4-44b5-ad47-85e7460e605f",
   "metadata": {},
   "source": [
    "#Hi"
   ]
  },
  {
   "cell_type": "markdown",
   "id": "64c7b5c8-101e-4588-8cf1-4fa20ab1263f",
   "metadata": {},
   "source": [
    "##gg"
   ]
  },
  {
   "cell_type": "code",
   "execution_count": null,
   "id": "6411a19c-522f-4dda-ada4-0812337e9f92",
   "metadata": {
    "editable": true,
    "slideshow": {
     "slide_type": ""
    },
    "tags": []
   },
   "outputs": [],
   "source": []
  },
  {
   "cell_type": "code",
   "execution_count": null,
   "id": "9bfa456c-42e2-458e-858c-2cee27b5448a",
   "metadata": {},
   "outputs": [],
   "source": []
  }
 ],
 "metadata": {
  "kernelspec": {
   "display_name": "Python 3 (ipykernel)",
   "language": "python",
   "name": "python3"
  },
  "language_info": {
   "codemirror_mode": {
    "name": "ipython",
    "version": 3
   },
   "file_extension": ".py",
   "mimetype": "text/x-python",
   "name": "python",
   "nbconvert_exporter": "python",
   "pygments_lexer": "ipython3",
   "version": "3.11.4"
  }
 },
 "nbformat": 4,
 "nbformat_minor": 5
}
